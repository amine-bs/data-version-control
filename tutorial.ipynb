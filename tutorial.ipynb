{
 "cells": [
  {
   "cell_type": "markdown",
   "id": "98c8b105-4b05-4c44-bd4c-3b00c06554e5",
   "metadata": {},
   "source": [
    "**Installation de la cli et l'api de dvc**"
   ]
  },
  {
   "cell_type": "code",
   "execution_count": null,
   "id": "636b5a4e-6561-482f-937b-ee608ead3505",
   "metadata": {},
   "outputs": [],
   "source": [
    "!pip install dvc dvc-s3\n",
    "!curl -sLO https://github.com/iterative/dvc/releases/download/2.35.1/dvc_2.35.1_amd64.deb\n",
    "!sudo apt install ./dvc_2.35.1_amd64.deb\n",
    "!rm ./dvc_2.35.1_amd64.deb\n",
    "!echo \"Installed with success!\"\n",
    "!dvc --version"
   ]
  },
  {
   "cell_type": "markdown",
   "id": "ac38dc6d-a25c-4d00-8d69-b5c4aa17ebea",
   "metadata": {},
   "source": [
    "On commence avec un dépôt Git vide dans lequel on initialise dvc avec la commande ```dvc init```. Cela crée un dossier ```.dvc``` équivalent à ```.git```."
   ]
  },
  {
   "cell_type": "code",
   "execution_count": 2,
   "id": "74096d26-410c-48eb-b661-a2b96bbaf5d9",
   "metadata": {},
   "outputs": [
    {
     "name": "stdout",
     "output_type": "stream",
     "text": [
      "Cloning into 'data-version-control'...\n",
      "remote: Enumerating objects: 3, done.\u001b[K\n",
      "remote: Counting objects: 100% (3/3), done.\u001b[K\n",
      "remote: Compressing objects: 100% (2/2), done.\u001b[K\n",
      "remote: Total 3 (delta 0), reused 0 (delta 0), pack-reused 0\u001b[K\n",
      "Unpacking objects: 100% (3/3), 653 bytes | 163.00 KiB/s, done.\n",
      "/home/onyxia/work/data-version-control\n"
     ]
    }
   ],
   "source": [
    "!git clone https://github.com/amine-bs/data-version-control.git\n",
    "%cd data-version-control"
   ]
  },
  {
   "cell_type": "code",
   "execution_count": 3,
   "id": "22e350a9-1927-45ee-b8ef-f4e957ebc31d",
   "metadata": {},
   "outputs": [
    {
     "name": "stdout",
     "output_type": "stream",
     "text": [
      "Initialized DVC repository.\n",
      "\n",
      "You can now commit the changes to git.\n",
      "\n",
      "\u001b[31m+---------------------------------------------------------------------+\n",
      "\u001b[0m\u001b[31m|\u001b[0m                                                                     \u001b[31m|\u001b[0m\n",
      "\u001b[31m|\u001b[0m        DVC has enabled anonymous aggregate usage analytics.         \u001b[31m|\u001b[0m\n",
      "\u001b[31m|\u001b[0m     Read the analytics documentation (and how to opt-out) here:     \u001b[31m|\u001b[0m\n",
      "\u001b[31m|\u001b[0m             <\u001b[36mhttps://dvc.org/doc/user-guide/analytics\u001b[39m>              \u001b[31m|\u001b[0m\n",
      "\u001b[31m|\u001b[0m                                                                     \u001b[31m|\u001b[0m\n",
      "\u001b[31m+---------------------------------------------------------------------+\n",
      "\u001b[0m\n",
      "\u001b[33mWhat's next?\u001b[39m\n",
      "\u001b[33m------------\u001b[39m\n",
      "- Check out the documentation: <\u001b[36mhttps://dvc.org/doc\u001b[39m>\n",
      "- Get help and share ideas: <\u001b[36mhttps://dvc.org/chat\u001b[39m>\n",
      "- Star us on GitHub: <\u001b[36mhttps://github.com/iterative/dvc\u001b[39m>\n",
      "\u001b[0m"
     ]
    }
   ],
   "source": [
    "!dvc init"
   ]
  },
  {
   "cell_type": "code",
   "execution_count": 4,
   "id": "6ba721ee-c196-4dfc-b1e1-3e73d27c08d6",
   "metadata": {},
   "outputs": [
    {
     "name": "stdout",
     "output_type": "stream",
     "text": [
      "On branch main\n",
      "Your branch is up to date with 'origin/main'.\n",
      "\n",
      "Changes to be committed:\n",
      "  (use \"git restore --staged <file>...\" to unstage)\n",
      "\t\u001b[32mnew file:   .dvc/.gitignore\u001b[m\n",
      "\t\u001b[32mnew file:   .dvc/config\u001b[m\n",
      "\t\u001b[32mnew file:   .dvcignore\u001b[m\n",
      "\n",
      "[main f37c756] initialize dvc\n",
      " 3 files changed, 6 insertions(+)\n",
      " create mode 100644 .dvc/.gitignore\n",
      " create mode 100644 .dvc/config\n",
      " create mode 100644 .dvcignore\n"
     ]
    }
   ],
   "source": [
    "!git status\n",
    "!git commit -m \"initialize dvc\""
   ]
  },
  {
   "cell_type": "markdown",
   "id": "a60236c2-4a32-45ba-a026-172f31ab8d7c",
   "metadata": {},
   "source": [
    "DVC permet de stocker les données localement ou sur cloud. Il est compatible avec plusieurs services cloud en particulier, avec tous les services de stockage basés sur s3. Dans ce tutoriel, on utilise un bucket s3 hébergé sur minIO. On commence avec un bucket vide."
   ]
  },
  {
   "cell_type": "code",
   "execution_count": 6,
   "id": "8c9dc44a-ebbb-4293-8fbc-f37261e0cfb7",
   "metadata": {},
   "outputs": [
    {
     "name": "stdout",
     "output_type": "stream",
     "text": [
      "Setting 'dvc-remote' as a default remote.\n",
      "\u001b[0m\u001b[0mdvc-remote\ts3://mbenxsalha/diffusion/dvc\n",
      "\u001b[0m"
     ]
    }
   ],
   "source": [
    "!dvc remote add --default dvc-remote s3://mbenxsalha/diffusion/dvc\n",
    "!dvc remote modify dvc-remote endpointurl https://minio.lab.sspcloud.fr\n",
    "!dvc remote list"
   ]
  },
  {
   "cell_type": "markdown",
   "id": "98db4d84-985a-4fee-9045-24bc040ae9aa",
   "metadata": {},
   "source": [
    "On importe les données et le code sur la mémoire locale."
   ]
  },
  {
   "cell_type": "code",
   "execution_count": 7,
   "id": "161172d3-a12c-49d1-bc07-2967cb45d14a",
   "metadata": {},
   "outputs": [
    {
     "name": "stdout",
     "output_type": "stream",
     "text": [
      "...n/train.py: 1.26 KiB / 1.26 KiB ━━━━━━━━━━━━━━━━━━━━━━━━━━━━━━ 14.14 KiB/s 0s\u001b[0m\u001b[0m\u001b[m\u001b[32;1m\u001b[m\u001b[32;1m\u001b]11;?\u001b\\\u001b[6n\u001b[m\u001b[32;1m\u001b[m\u001b[32;1mDiamondsPrices.csv  README.md  train.py\n"
     ]
    }
   ],
   "source": [
    "!mc cp s3/mbenxsalha/diffusion/DiamondsPrices.csv .\n",
    "!mc cp s3/mbenxsalha/diffusion/train.py .\n",
    "!ls"
   ]
  },
  {
   "cell_type": "markdown",
   "id": "1c96c056-5a87-474d-80a1-0482e7420c9c",
   "metadata": {},
   "source": [
    "La commande ```dvc add``` (équivalente à git add) indique à dvc le fichier ou le dossier à suivre en enregistrant ses versions. Pour ce faire, dvc crée un fichier .dvc (DiamondsPrices.csv.dvc dans notre cas) pour suivre les versions. "
   ]
  },
  {
   "cell_type": "code",
   "execution_count": 8,
   "id": "d80d9bef-598c-4059-bd89-5dcf9decf3f8",
   "metadata": {},
   "outputs": [
    {
     "name": "stdout",
     "output_type": "stream",
     "text": [
      "\u001b[2K\u001b[32m⠋\u001b[0m Checking graph                                                   \u001b[32m⠋\u001b[0m Checking graph\n",
      "Adding...                                                                       \n",
      "!\u001b[A\n",
      "  0% Checking cache in '/home/onyxia/work/data-version-control/.dvc/cache'| |0/?\u001b[A\n",
      "                                                                                \u001b[A\n",
      "!\u001b[A\n",
      "  0%|          |Transferring                          0/1 [00:00<?,     ?file/s]\u001b[A\n",
      "\n",
      "!\u001b[A\u001b[A\n",
      "\n",
      "  0%|          |DiamondsPrices.csv                 0.00/? [00:00<?,        ?B/s]\u001b[A\u001b[A\n",
      "\n",
      "                                                                                \u001b[A\u001b[A\n",
      "100% Adding...|████████████████████████████████████████|1/1 [00:00, 11.35file/s]\u001b[A\n",
      "\n",
      "To track the changes with git, run:\n",
      "\n",
      "\tgit add .gitignore DiamondsPrices.csv.dvc\n",
      "\n",
      "To enable auto staging, run:\n",
      "\n",
      "\tdvc config core.autostage true\n",
      "\u001b[0m"
     ]
    }
   ],
   "source": [
    "!dvc add DiamondsPrices.csv"
   ]
  },
  {
   "cell_type": "markdown",
   "id": "d6bb02dd-b106-4fd5-8f86-026b438c2ba5",
   "metadata": {},
   "source": [
    "La commande ```dvc add``` ajoute le fichier à ```.gitignore``` implicitement."
   ]
  },
  {
   "cell_type": "code",
   "execution_count": 9,
   "id": "702ed915-71c3-4db4-9f8d-5db0bb87ce29",
   "metadata": {},
   "outputs": [
    {
     "name": "stdout",
     "output_type": "stream",
     "text": [
      "/DiamondsPrices.csv\n"
     ]
    }
   ],
   "source": [
    "!cat .gitignore"
   ]
  },
  {
   "cell_type": "markdown",
   "id": "b84a172c-4e19-410a-bb70-bc028dce3684",
   "metadata": {},
   "source": [
    "Le code d'entrainement génère deux modèles (LM_model.pkl et RF_model.pkl) et un fichier ```metrics.csv``` contenant les résultats."
   ]
  },
  {
   "cell_type": "code",
   "execution_count": 10,
   "id": "a58eaa13-bb03-4e3c-be23-42afefdf5e32",
   "metadata": {},
   "outputs": [
    {
     "name": "stdout",
     "output_type": "stream",
     "text": [
      "DiamondsPrices.csv\tLM_model.pkl  README.md     train.py\n",
      "DiamondsPrices.csv.dvc\tmetrics.csv   RF_model.pkl\n"
     ]
    }
   ],
   "source": [
    "!python train.py\n",
    "!ls"
   ]
  },
  {
   "cell_type": "markdown",
   "id": "9f4e8074-e333-4744-b409-a8aafe002b30",
   "metadata": {},
   "source": [
    "On commande dvc de suivre les fichiers nouvellement créés. On note que la taille des fichiers .dvc est beaucoup plus petite que celle des fichiers originaux. Cela permet de déposer des fichiers de très grande taille sur github."
   ]
  },
  {
   "cell_type": "code",
   "execution_count": 11,
   "id": "049a4ff2-2476-49a5-91da-63c7982efa78",
   "metadata": {},
   "outputs": [
    {
     "name": "stdout",
     "output_type": "stream",
     "text": [
      "\u001b[2K\u001b[32m⠋\u001b[0m Checking graph                                                   \u001b[32m⠋\u001b[0m Checking graph\n",
      "  0% Adding...|                                      |0/3 [00:00<?,     ?file/s]\n",
      "!\u001b[A\n",
      "  0% Checking cache in '/home/onyxia/work/data-version-control/.dvc/cache'| |0/?\u001b[A\n",
      "                                                                                \u001b[A\n",
      "!\u001b[A\n",
      "  0%|          |Transferring                          0/1 [00:00<?,     ?file/s]\u001b[A\n",
      "\n",
      "!\u001b[A\u001b[A\n",
      "\n",
      "  0%|          |metrics.csv                        0.00/? [00:00<?,        ?B/s]\u001b[A\u001b[A\n",
      "\n",
      "                                                                                \u001b[A\u001b[A\n",
      "                                                                                \u001b[A\n",
      "!\u001b[A\n",
      "  0% Checking cache in '/home/onyxia/work/data-version-control/.dvc/cache'| |0/?\u001b[A\n",
      "                                                                                \u001b[A\n",
      "!\u001b[A\n",
      "  0%|          |Transferring                          0/1 [00:00<?,     ?file/s]\u001b[A\n",
      "\n",
      "!\u001b[A\u001b[A\n",
      "\n",
      "  0%|          |LM_model.pkl                       0.00/? [00:00<?,        ?B/s]\u001b[A\u001b[A\n",
      "\n",
      "                                                                                \u001b[A\u001b[A\n",
      " 67% Adding...|████████████▋      | LM_model.pkl |2/3 [00:00<00:00, 17.55file/s]\u001b[A\n",
      "!\u001b[A\n",
      "  0% Checking cache in '/home/onyxia/work/data-version-control/.dvc/cache'| |0/?\u001b[A\n",
      "                                                                                \u001b[A\n",
      "!\u001b[A\n",
      "  0%|          |Transferring                          0/1 [00:00<?,     ?file/s]\u001b[A\n",
      "\n",
      "!\u001b[A\u001b[A\n",
      "\n",
      "  0%|          |RF_model.pkl                       0.00/? [00:00<?,        ?B/s]\u001b[A\u001b[A\n",
      "\n",
      "                                                                                \u001b[A\u001b[A\n",
      "100% Adding...|████████████████████████████████████████|3/3 [00:00,  4.64file/s]\u001b[A\n",
      "\n",
      "To track the changes with git, run:\n",
      "\n",
      "\tgit add LM_model.pkl.dvc .gitignore RF_model.pkl.dvc metrics.csv.dvc\n",
      "\n",
      "To enable auto staging, run:\n",
      "\n",
      "\tdvc config core.autostage true\n",
      "\u001b[0mtotal 139M\n",
      "-rw-r--r-- 1 onyxia users 2.4M Nov 25 15:54 DiamondsPrices.csv\n",
      "-rw-r--r-- 1 onyxia users   89 Nov 25 15:54 DiamondsPrices.csv.dvc\n",
      "-rw-r--r-- 1 onyxia users  844 Nov 25 15:55 LM_model.pkl\n",
      "-rw-r--r-- 1 onyxia users   79 Nov 25 15:55 LM_model.pkl.dvc\n",
      "-rw-r--r-- 1 onyxia users   49 Nov 25 15:55 metrics.csv\n",
      "-rw-r--r-- 1 onyxia users   77 Nov 25 15:55 metrics.csv.dvc\n",
      "-rw-r--r-- 1 onyxia users   86 Nov 25 15:52 README.md\n",
      "-rw-r--r-- 1 onyxia users 137M Nov 25 15:55 RF_model.pkl\n",
      "-rw-r--r-- 1 onyxia users   85 Nov 25 15:55 RF_model.pkl.dvc\n",
      "-rw-r--r-- 1 onyxia users 1.3K Nov 25 15:54 train.py\n"
     ]
    }
   ],
   "source": [
    "!dvc add metrics.csv LM_model.pkl RF_model.pkl\n",
    "!ls -lh"
   ]
  },
  {
   "cell_type": "markdown",
   "id": "553c65b8-4f33-410d-9f36-efa51ff1d8da",
   "metadata": {},
   "source": [
    "On sauvegarde notre travail sur github et on tag cette première version pour pouvoir la réviser facilement après."
   ]
  },
  {
   "cell_type": "code",
   "execution_count": 12,
   "id": "29b42e20-d215-4db5-a16f-98118a25196f",
   "metadata": {},
   "outputs": [
    {
     "name": "stdout",
     "output_type": "stream",
     "text": [
      "[main 13a0c5b] first version\n",
      " 7 files changed, 69 insertions(+)\n",
      " create mode 100644 .gitignore\n",
      " create mode 100644 DiamondsPrices.csv.dvc\n",
      " create mode 100644 LM_model.pkl.dvc\n",
      " create mode 100644 RF_model.pkl.dvc\n",
      " create mode 100644 metrics.csv.dvc\n",
      " create mode 100644 train.py\n"
     ]
    }
   ],
   "source": [
    "!git add .\n",
    "!git commit -m \"first version\"\n",
    "!git tag -a \"v1.0\" -m \"first version\"\n",
    "!git push"
   ]
  },
  {
   "cell_type": "markdown",
   "id": "6da4a8f4-9d2c-406f-8715-72df5dbd0204",
   "metadata": {},
   "source": [
    "Dans le bucket, 4 dossiers sont créés, un pour chaque fichier suivi. Chaque dossier contient toutes les versions du fichier."
   ]
  },
  {
   "cell_type": "code",
   "execution_count": 16,
   "id": "3e45cdf4-ecbc-40d1-9bc7-7a7477d29036",
   "metadata": {},
   "outputs": [
    {
     "name": "stdout",
     "output_type": "stream",
     "text": [
      "\u001b]11;?\u001b\\\u001b[6n\u001b[m\u001b[32m[2022-11-25 14:42:22 UTC]\u001b[0m\u001b[33m    39B\u001b[0m \u001b[34mSTANDARD\u001b[0m\u001b[1m .keep\u001b[0m\n",
      "\u001b[0m\u001b[m\u001b[32m[2022-11-25 16:05:00 UTC]\u001b[0m\u001b[33m     0B\u001b[0m\u001b[36;1m 43/\u001b[0m\n",
      "\u001b[0m\u001b[m\u001b[32m[2022-11-25 16:05:00 UTC]\u001b[0m\u001b[33m     0B\u001b[0m\u001b[36;1m 51/\u001b[0m\n",
      "\u001b[0m\u001b[m\u001b[32m[2022-11-25 16:05:00 UTC]\u001b[0m\u001b[33m     0B\u001b[0m\u001b[36;1m c5/\u001b[0m\n",
      "\u001b[0m\u001b[m\u001b[32m[2022-11-25 16:05:00 UTC]\u001b[0m\u001b[33m     0B\u001b[0m\u001b[36;1m eb/\u001b[0m\n",
      "\u001b[0m"
     ]
    }
   ],
   "source": [
    "!mc ls s3/mbenxsalha/diffusion/dvc"
   ]
  },
  {
   "cell_type": "code",
   "execution_count": 17,
   "id": "26ec991c-1885-4eb4-8ccd-86493c80b9f6",
   "metadata": {},
   "outputs": [
    {
     "data": {
      "text/html": [
       "<div>\n",
       "<style scoped>\n",
       "    .dataframe tbody tr th:only-of-type {\n",
       "        vertical-align: middle;\n",
       "    }\n",
       "\n",
       "    .dataframe tbody tr th {\n",
       "        vertical-align: top;\n",
       "    }\n",
       "\n",
       "    .dataframe thead th {\n",
       "        text-align: right;\n",
       "    }\n",
       "</style>\n",
       "<table border=\"1\" class=\"dataframe\">\n",
       "  <thead>\n",
       "    <tr style=\"text-align: right;\">\n",
       "      <th></th>\n",
       "      <th>carat</th>\n",
       "      <th>cut</th>\n",
       "      <th>color</th>\n",
       "      <th>clarity</th>\n",
       "      <th>depth</th>\n",
       "      <th>table</th>\n",
       "      <th>price</th>\n",
       "      <th>x</th>\n",
       "      <th>y</th>\n",
       "      <th>z</th>\n",
       "    </tr>\n",
       "  </thead>\n",
       "  <tbody>\n",
       "    <tr>\n",
       "      <th>0</th>\n",
       "      <td>0.23</td>\n",
       "      <td>Ideal</td>\n",
       "      <td>E</td>\n",
       "      <td>SI2</td>\n",
       "      <td>61.5</td>\n",
       "      <td>55.0</td>\n",
       "      <td>326</td>\n",
       "      <td>3.95</td>\n",
       "      <td>3.98</td>\n",
       "      <td>2.43</td>\n",
       "    </tr>\n",
       "    <tr>\n",
       "      <th>1</th>\n",
       "      <td>0.21</td>\n",
       "      <td>Premium</td>\n",
       "      <td>E</td>\n",
       "      <td>SI1</td>\n",
       "      <td>59.8</td>\n",
       "      <td>61.0</td>\n",
       "      <td>326</td>\n",
       "      <td>3.89</td>\n",
       "      <td>3.84</td>\n",
       "      <td>2.31</td>\n",
       "    </tr>\n",
       "  </tbody>\n",
       "</table>\n",
       "</div>"
      ],
      "text/plain": [
       "   carat      cut color clarity  depth  table  price     x     y     z\n",
       "0   0.23    Ideal     E     SI2   61.5   55.0    326  3.95  3.98  2.43\n",
       "1   0.21  Premium     E     SI1   59.8   61.0    326  3.89  3.84  2.31"
      ]
     },
     "execution_count": 17,
     "metadata": {},
     "output_type": "execute_result"
    }
   ],
   "source": [
    "import pandas as pd\n",
    "df = pd.read_csv(\"DiamondsPrices.csv\")\n",
    "df.head(2)"
   ]
  },
  {
   "cell_type": "markdown",
   "id": "738c4229-58f4-4d24-8539-b218b5c58258",
   "metadata": {},
   "source": [
    "Ensuite, on modifie le code d'entrainement anisi que les features utilisés."
   ]
  },
  {
   "cell_type": "code",
   "execution_count": 24,
   "id": "c7793889-625a-4999-9c20-1f9d58f39594",
   "metadata": {},
   "outputs": [],
   "source": [
    "!python train.py "
   ]
  },
  {
   "cell_type": "code",
   "execution_count": 25,
   "id": "504dff9f-9f00-4fe0-a4ce-45decec8a475",
   "metadata": {},
   "outputs": [
    {
     "data": {
      "text/html": [
       "<div>\n",
       "<style scoped>\n",
       "    .dataframe tbody tr th:only-of-type {\n",
       "        vertical-align: middle;\n",
       "    }\n",
       "\n",
       "    .dataframe tbody tr th {\n",
       "        vertical-align: top;\n",
       "    }\n",
       "\n",
       "    .dataframe thead th {\n",
       "        text-align: right;\n",
       "    }\n",
       "</style>\n",
       "<table border=\"1\" class=\"dataframe\">\n",
       "  <thead>\n",
       "    <tr style=\"text-align: right;\">\n",
       "      <th></th>\n",
       "      <th>Unnamed: 0</th>\n",
       "      <th>carat</th>\n",
       "      <th>cut</th>\n",
       "      <th>color</th>\n",
       "      <th>clarity</th>\n",
       "      <th>depth</th>\n",
       "      <th>table</th>\n",
       "      <th>price</th>\n",
       "    </tr>\n",
       "  </thead>\n",
       "  <tbody>\n",
       "    <tr>\n",
       "      <th>0</th>\n",
       "      <td>0</td>\n",
       "      <td>0.23</td>\n",
       "      <td>Ideal</td>\n",
       "      <td>E</td>\n",
       "      <td>SI2</td>\n",
       "      <td>61.5</td>\n",
       "      <td>55.0</td>\n",
       "      <td>326</td>\n",
       "    </tr>\n",
       "    <tr>\n",
       "      <th>1</th>\n",
       "      <td>1</td>\n",
       "      <td>0.21</td>\n",
       "      <td>Premium</td>\n",
       "      <td>E</td>\n",
       "      <td>SI1</td>\n",
       "      <td>59.8</td>\n",
       "      <td>61.0</td>\n",
       "      <td>326</td>\n",
       "    </tr>\n",
       "  </tbody>\n",
       "</table>\n",
       "</div>"
      ],
      "text/plain": [
       "   Unnamed: 0  carat      cut color clarity  depth  table  price\n",
       "0           0   0.23    Ideal     E     SI2   61.5   55.0    326\n",
       "1           1   0.21  Premium     E     SI1   59.8   61.0    326"
      ]
     },
     "execution_count": 25,
     "metadata": {},
     "output_type": "execute_result"
    }
   ],
   "source": [
    "import pandas as pd\n",
    "df = pd.read_csv(\"DiamondsPrices.csv\")\n",
    "df.head(2)"
   ]
  },
  {
   "cell_type": "markdown",
   "id": "333b730a-3ee6-46b8-9124-e19c6974e2b1",
   "metadata": {},
   "source": [
    "On exécute la même séquence de commandes : dvc add, git add, git commit, git push"
   ]
  },
  {
   "cell_type": "code",
   "execution_count": 26,
   "id": "8dac3024-5cf8-49ab-9fed-c06c0bb10c73",
   "metadata": {},
   "outputs": [
    {
     "name": "stdout",
     "output_type": "stream",
     "text": [
      "\u001b[2K\u001b[32m⠋\u001b[0m Checking graph                                                   \u001b[32m⠋\u001b[0m Checking graph\n",
      "  0% Adding...|                                      |0/4 [00:00<?,     ?file/s]\n",
      "!\u001b[A\n",
      "  0% Checking cache in '/home/onyxia/work/data-version-control/.dvc/cache'| |0/?\u001b[A\n",
      "                                                                                \u001b[A\n",
      "!\u001b[A\n",
      "  0%|          |Transferring                          0/1 [00:00<?,     ?file/s]\u001b[A\n",
      "\n",
      "!\u001b[A\u001b[A\n",
      "\n",
      "  0%|          |DiamondsPrices.csv                 0.00/? [00:00<?,        ?B/s]\u001b[A\u001b[A\n",
      "\n",
      "                                                                                \u001b[A\u001b[A\n",
      "                                                                                \u001b[A\n",
      "!\u001b[A\n",
      "  0% Checking cache in '/home/onyxia/work/data-version-control/.dvc/cache'| |0/?\u001b[A\n",
      "                                                                                \u001b[A\n",
      "!\u001b[A\n",
      "  0%|          |Transferring                          0/1 [00:00<?,     ?file/s]\u001b[A\n",
      "\n",
      "!\u001b[A\u001b[A\n",
      "\n",
      "  0%|          |LM_model.pkl                       0.00/? [00:00<?,        ?B/s]\u001b[A\u001b[A\n",
      "\n",
      "                                                                                \u001b[A\u001b[A\n",
      " 50% Adding...|█████████▌         | LM_model.pkl |2/4 [00:00<00:00, 16.16file/s]\u001b[A\n",
      "!\u001b[A\n",
      "  0% Checking cache in '/home/onyxia/work/data-version-control/.dvc/cache'| |0/?\u001b[A\n",
      "                                                                                \u001b[A\n",
      "!\u001b[A\n",
      "  0%|          |Transferring                          0/1 [00:00<?,     ?file/s]\u001b[A\n",
      "\n",
      "!\u001b[A\u001b[A\n",
      "\n",
      "  0%|          |RF_model.pkl                       0.00/? [00:00<?,        ?B/s]\u001b[A\u001b[A\n",
      "\n",
      "                                                                                \u001b[A\u001b[A\n",
      "                                                                                \u001b[A\n",
      "!\u001b[A\n",
      "  0% Checking cache in '/home/onyxia/work/data-version-control/.dvc/cache'| |0/?\u001b[A\n",
      "                                                                                \u001b[A\n",
      "!\u001b[A\n",
      "  0%|          |Transferring                          0/1 [00:00<?,     ?file/s]\u001b[A\n",
      "\n",
      "!\u001b[A\u001b[A\n",
      "\n",
      "  0%|          |metrics.csv                        0.00/? [00:00<?,        ?B/s]\u001b[A\u001b[A\n",
      "\n",
      "                                                                                \u001b[A\u001b[A\n",
      "100% Adding...|████████████████████████████████████████|4/4 [00:00,  6.11file/s]\u001b[A\n",
      "\n",
      "To track the changes with git, run:\n",
      "\n",
      "\tgit add metrics.csv.dvc LM_model.pkl.dvc DiamondsPrices.csv.dvc RF_model.pkl.dvc\n",
      "\n",
      "To enable auto staging, run:\n",
      "\n",
      "\tdvc config core.autostage true\n",
      "\u001b[0m"
     ]
    }
   ],
   "source": [
    "!dvc add DiamondsPrices.csv LM_model.pkl RF_model.pkl metrics.csv"
   ]
  },
  {
   "cell_type": "code",
   "execution_count": 27,
   "id": "8d039100-f8c8-41c7-a0d3-eaceb1daf9f0",
   "metadata": {},
   "outputs": [
    {
     "name": "stdout",
     "output_type": "stream",
     "text": [
      "[main 2a2b5b4] second version\n",
      " 6 files changed, 58 insertions(+), 8 deletions(-)\n",
      " create mode 100644 .ipynb_checkpoints/train-checkpoint.py\n"
     ]
    }
   ],
   "source": [
    "!git add .\n",
    "!git commit -m \"second version\"\n",
    "!git tag -a \"v2.0\" -m \"second version\"\n",
    "!git push"
   ]
  },
  {
   "cell_type": "markdown",
   "id": "538152ee-7d46-428d-af21-89cf5d436e5b",
   "metadata": {},
   "source": [
    "Maintenant, on peut examiner toutes les versions facilement avec git checkout et dvc checkout. En effet, dvc va importer la version souhaitée des données à partir du stockage externe et recouvrir (overwrite) les fichiers locaux. "
   ]
  },
  {
   "cell_type": "code",
   "execution_count": 31,
   "id": "28a3ad65-4c85-49ab-a76b-a02d255ad73a",
   "metadata": {},
   "outputs": [
    {
     "name": "stdout",
     "output_type": "stream",
     "text": [
      "Previous HEAD position was 2a2b5b4 second version\n",
      "HEAD is now at 13a0c5b first version\n",
      "  0% Checkout|                                       |0/4 [00:00<?,     ?file/s]\n",
      "!\u001b[A\n",
      "  0%|          |/home/onyxia/work/data-version-cont0.00/? [00:00<?,        ?B/s]\u001b[A\n",
      "  0%|          |/home/onyxia/work/data-version-c0.00/137M [00:00<?,        ?B/s]\u001b[A\n",
      " 86%|████████▌ |/home/onyxia/work/data-versi117M/137M [00:00<00:00,    1.23GB/s]\u001b[A\n",
      " 25% Checkout|████████▊                          |1/4 [00:00<00:00,  7.12file/s]\u001b[A\n",
      "!\u001b[A\n",
      "  0%|          |/home/onyxia/work/data-version-cont0.00/? [00:00<?,        ?B/s]\u001b[A\n",
      "  0%|          |/home/onyxia/work/data-version-co0.00/844 [00:00<?,        ?B/s]\u001b[A\n",
      "                                                                                \u001b[A\n",
      "!\u001b[A\n",
      "  0%|          |/home/onyxia/work/data-version-cont0.00/? [00:00<?,        ?B/s]\u001b[A\n",
      "  0%|          |/home/onyxia/work/data-version-0.00/2.34M [00:00<?,        ?B/s]\u001b[A\n",
      " 75% Checkout|██████████████████████████▎        |3/4 [00:00<00:00, 12.78file/s]\u001b[A\n",
      "!\u001b[A\n",
      "  0%|          |/home/onyxia/work/data-version-cont0.00/? [00:00<?,        ?B/s]\u001b[A\n",
      "  0%|          |/home/onyxia/work/data-version-c0.00/49.0 [00:00<?,        ?B/s]\u001b[A\n",
      "\u001b[33mM\u001b[0m       RF_model.pkl                                                   \u001b[A\n",
      "\u001b[33mM\u001b[0m       LM_model.pkl\n",
      "\u001b[33mM\u001b[0m       DiamondsPrices.csv\n",
      "\u001b[33mM\u001b[0m       metrics.csv\n",
      "\u001b[0m"
     ]
    },
    {
     "data": {
      "text/html": [
       "<div>\n",
       "<style scoped>\n",
       "    .dataframe tbody tr th:only-of-type {\n",
       "        vertical-align: middle;\n",
       "    }\n",
       "\n",
       "    .dataframe tbody tr th {\n",
       "        vertical-align: top;\n",
       "    }\n",
       "\n",
       "    .dataframe thead th {\n",
       "        text-align: right;\n",
       "    }\n",
       "</style>\n",
       "<table border=\"1\" class=\"dataframe\">\n",
       "  <thead>\n",
       "    <tr style=\"text-align: right;\">\n",
       "      <th></th>\n",
       "      <th>Unnamed: 0</th>\n",
       "      <th>RMSE</th>\n",
       "    </tr>\n",
       "  </thead>\n",
       "  <tbody>\n",
       "    <tr>\n",
       "      <th>0</th>\n",
       "      <td>LM</td>\n",
       "      <td>1104.462959</td>\n",
       "    </tr>\n",
       "    <tr>\n",
       "      <th>1</th>\n",
       "      <td>RF</td>\n",
       "      <td>559.337674</td>\n",
       "    </tr>\n",
       "  </tbody>\n",
       "</table>\n",
       "</div>"
      ],
      "text/plain": [
       "  Unnamed: 0         RMSE\n",
       "0         LM  1104.462959\n",
       "1         RF   559.337674"
      ]
     },
     "execution_count": 31,
     "metadata": {},
     "output_type": "execute_result"
    }
   ],
   "source": [
    "!git checkout v1.0\n",
    "!dvc checkout\n",
    "metrics_v1 = pd.read_csv(\"metrics.csv\")\n",
    "metrics_v1.head()"
   ]
  },
  {
   "cell_type": "code",
   "execution_count": 32,
   "id": "1a34b4ba-fd34-435e-8bd1-2d2fcc2c458b",
   "metadata": {},
   "outputs": [
    {
     "name": "stdout",
     "output_type": "stream",
     "text": [
      "Previous HEAD position was 13a0c5b first version\n",
      "HEAD is now at 2a2b5b4 second version\n",
      "  0% Checkout|                                       |0/4 [00:00<?,     ?file/s]\n",
      "!\u001b[A\n",
      "  0%|          |/home/onyxia/work/data-version-cont0.00/? [00:00<?,        ?B/s]\u001b[A\n",
      "  0%|          |/home/onyxia/work/data-version-0.00/1.99M [00:00<?,        ?B/s]\u001b[A\n",
      "                                                                                \u001b[A\n",
      "!\u001b[A\n",
      "  0%|          |/home/onyxia/work/data-version-cont0.00/? [00:00<?,        ?B/s]\u001b[A\n",
      "  0%|          |/home/onyxia/work/data-version-c0.00/49.0 [00:00<?,        ?B/s]\u001b[A\n",
      "                                                                                \u001b[A\n",
      "!\u001b[A\n",
      "  0%|          |/home/onyxia/work/data-version-cont0.00/? [00:00<?,        ?B/s]\u001b[A\n",
      "  0%|          |/home/onyxia/work/data-version-co0.00/796 [00:00<?,        ?B/s]\u001b[A\n",
      "                                                                                \u001b[A\n",
      "!\u001b[A\n",
      "  0%|          |/home/onyxia/work/data-version-cont0.00/? [00:00<?,        ?B/s]\u001b[A\n",
      "  0%|          |/home/onyxia/work/data-version-c0.00/135M [00:00<?,        ?B/s]\u001b[A\n",
      " 73%|███████▎  |/home/onyxia/work/data-vers99.0M/135M [00:00<00:00,    1.03GB/s]\u001b[A\n",
      "\u001b[33mM\u001b[0m       DiamondsPrices.csv                                             \u001b[A\n",
      "\u001b[33mM\u001b[0m       metrics.csv\n",
      "\u001b[33mM\u001b[0m       LM_model.pkl\n",
      "\u001b[33mM\u001b[0m       RF_model.pkl\n",
      "\u001b[0m"
     ]
    },
    {
     "data": {
      "text/html": [
       "<div>\n",
       "<style scoped>\n",
       "    .dataframe tbody tr th:only-of-type {\n",
       "        vertical-align: middle;\n",
       "    }\n",
       "\n",
       "    .dataframe tbody tr th {\n",
       "        vertical-align: top;\n",
       "    }\n",
       "\n",
       "    .dataframe thead th {\n",
       "        text-align: right;\n",
       "    }\n",
       "</style>\n",
       "<table border=\"1\" class=\"dataframe\">\n",
       "  <thead>\n",
       "    <tr style=\"text-align: right;\">\n",
       "      <th></th>\n",
       "      <th>Unnamed: 0</th>\n",
       "      <th>RMSE</th>\n",
       "    </tr>\n",
       "  </thead>\n",
       "  <tbody>\n",
       "    <tr>\n",
       "      <th>0</th>\n",
       "      <td>LM</td>\n",
       "      <td>1160.115737</td>\n",
       "    </tr>\n",
       "    <tr>\n",
       "      <th>1</th>\n",
       "      <td>RF</td>\n",
       "      <td>544.569143</td>\n",
       "    </tr>\n",
       "  </tbody>\n",
       "</table>\n",
       "</div>"
      ],
      "text/plain": [
       "  Unnamed: 0         RMSE\n",
       "0         LM  1160.115737\n",
       "1         RF   544.569143"
      ]
     },
     "execution_count": 32,
     "metadata": {},
     "output_type": "execute_result"
    }
   ],
   "source": [
    "!git checkout v2.0\n",
    "!dvc checkout\n",
    "metrics_v2 = pd.read_csv(\"metrics.csv\")\n",
    "metrics_v2.head()"
   ]
  },
  {
   "cell_type": "markdown",
   "id": "b65ca6e5-84ea-4759-906e-07b5984622a5",
   "metadata": {},
   "source": [
    "# Conclusion\n",
    "- DVC implémente l'approche ***data as code*** en se basant sur des commandes équivalentes à celles de Git. Il est complémentaire à Git.\n",
    "- Il permet d'enregistrer les versions de données à suivre dans un stockage local ou externe.\n",
    "- Il n'offre pas une interface graphique pour explorer les fichiers.\n",
    "- Son API permet de lire des données à partir du stockage et les mettre dans la mémoire vive directement. Mais elle ne permet pas d'écrire ou de suivre des objets situées dans la mémoire vive sur le remote storage (cela est possible sur lakefs).\n",
    "- verdict (personnel) : DVC for the win!"
   ]
  }
 ],
 "metadata": {
  "kernelspec": {
   "display_name": "Python 3 (ipykernel)",
   "language": "python",
   "name": "python3"
  },
  "language_info": {
   "codemirror_mode": {
    "name": "ipython",
    "version": 3
   },
   "file_extension": ".py",
   "mimetype": "text/x-python",
   "name": "python",
   "nbconvert_exporter": "python",
   "pygments_lexer": "ipython3",
   "version": "3.10.4"
  }
 },
 "nbformat": 4,
 "nbformat_minor": 5
}
